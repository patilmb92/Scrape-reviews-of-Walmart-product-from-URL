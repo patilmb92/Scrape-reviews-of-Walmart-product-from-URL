{
 "cells": [
  {
   "cell_type": "code",
   "execution_count": 1,
   "metadata": {},
   "outputs": [
    {
     "name": "stderr",
     "output_type": "stream",
     "text": [
      "C:\\Users\\Mahesh\\AppData\\Local\\Continuum\\anaconda3\\lib\\site-packages\\requests\\__init__.py:80: RequestsDependencyWarning: urllib3 (1.26.6) or chardet (3.0.4) doesn't match a supported version!\n",
      "  RequestsDependencyWarning)\n"
     ]
    }
   ],
   "source": [
    "# We will first import important packages in our Notebook\n",
    "from selenium import webdriver\n",
    "from selenium.common import exceptions\n",
    "import pandas as pd\n",
    "import requests\n",
    "from bs4 import BeautifulSoup as bs"
   ]
  },
  {
   "cell_type": "code",
   "execution_count": 3,
   "metadata": {},
   "outputs": [],
   "source": [
    "#With help of below code we can access web page directly in browser\n",
    "browser = webdriver.Chrome('C:/Users/Mahesh/Downloads/chromedriver_win32/chromedriver.exe') # write the path \n",
    "browser.get('https://www.walmart.com/reviews/product/14898365?sort=submission-desc')"
   ]
  },
  {
   "cell_type": "code",
   "execution_count": 52,
   "metadata": {},
   "outputs": [],
   "source": [
    "body=browser.find_element_by_tag_name('body').get_attribute('innerHTML') # acces the HTML page content"
   ]
  },
  {
   "cell_type": "code",
   "execution_count": 41,
   "metadata": {},
   "outputs": [],
   "source": [
    "soupbody=bs(body) # used for web scraping purposes to pull the data out of HTML and XML files"
   ]
  },
  {
   "cell_type": "code",
   "execution_count": 54,
   "metadata": {},
   "outputs": [],
   "source": [
    "# Create empty list of variables of reviews.\n",
    "Review_date=[]\n",
    "Reviewer_name=[]\n",
    "Review_title=[]\n",
    "Review_body=[]\n",
    "User_Rating=[]\n",
    "# As given Task we need to extract reviews till Dcember 2020, which are available from 22 page number\n",
    "for i in range(1,23):\n",
    "    # URL of perticular page number\n",
    "    url='https://www.walmart.com/reviews/product/14898365?page={}&sort=submission-desc'.format(i) \n",
    "    browser.get(url)\n",
    "    body=browser.find_element_by_tag_name('body').get_attribute('innerHTML')\n",
    "    soup =bs(body)\n",
    "    # Extract the data of date of review posted\n",
    "    reviewer_date=soup.find_all('span',class_='review-date-submissionTime')\n",
    "    for date in range(len(reviewer_date)):\n",
    "        Review_date.append(reviewer_date[date].get_text()) # add the data into list\n",
    "    # Extract the data of name of customer who posted review\n",
    "    reviewer_name=soup.find_all('span',class_='review-footer-userNickname')\n",
    "    for name in range(len(reviewer_name)):\n",
    "        Reviewer_name.append(reviewer_name[name].get_text())\n",
    "    # Extract the data of review title\n",
    "    review_titles=soup.find_all('h3',class_='review-title font-bold')\n",
    "    for title in range(len(review_titles)):\n",
    "        Review_title.append(review_titles[title].get_text())\n",
    "    # Extract the data of review text\n",
    "    reviewer_text=soup.find_all('div',class_='review-text')\n",
    "    for text in range(len(reviewer_text)):\n",
    "        Review_body.append(reviewer_text[text].get_text())\n",
    "    # Extract the data of review ratings\n",
    "    review_ratings=soup.find_all('div',class_='review-star-rating')\n",
    "    for rate in range(len(review_ratings)):\n",
    "        User_Rating.append(review_ratings[rate].get_text())\n",
    "    \n",
    "    "
   ]
  },
  {
   "cell_type": "code",
   "execution_count": 55,
   "metadata": {},
   "outputs": [],
   "source": [
    "# Extract the data of review ratings in digits only\n",
    "User_Rating=[i[16] for i in User_Rating] "
   ]
  },
  {
   "cell_type": "code",
   "execution_count": 56,
   "metadata": {},
   "outputs": [
    {
     "name": "stdout",
     "output_type": "stream",
     "text": [
      "440\n",
      "440\n",
      "331\n",
      "440\n",
      "440\n"
     ]
    }
   ],
   "source": [
    "# Print the lenghth of each list\n",
    "print(len(Review_date))\n",
    "print(len(Reviewer_name))\n",
    "print(len(Review_title))\n",
    "print(len(Review_body))\n",
    "print(len(User_Rating))"
   ]
  },
  {
   "cell_type": "code",
   "execution_count": 57,
   "metadata": {},
   "outputs": [],
   "source": [
    "# Create empty data frame using pandas\n",
    "Data_Frame=pd.DataFrame()"
   ]
  },
  {
   "cell_type": "code",
   "execution_count": 58,
   "metadata": {},
   "outputs": [],
   "source": [
    "# Add the above lists in to data frame giving column names\n",
    "Data_Frame['Review_date']=Review_date\n",
    "Data_Frame['Reviewer_name']=Reviewer_name\n",
    "Data_Frame['Review_body']=Review_body\n",
    "Data_Frame['User_Rating']=User_Rating\n",
    "#Data_Frame['Review_title']=Review_title"
   ]
  },
  {
   "cell_type": "code",
   "execution_count": 59,
   "metadata": {},
   "outputs": [
    {
     "data": {
      "text/html": [
       "<div>\n",
       "<style scoped>\n",
       "    .dataframe tbody tr th:only-of-type {\n",
       "        vertical-align: middle;\n",
       "    }\n",
       "\n",
       "    .dataframe tbody tr th {\n",
       "        vertical-align: top;\n",
       "    }\n",
       "\n",
       "    .dataframe thead th {\n",
       "        text-align: right;\n",
       "    }\n",
       "</style>\n",
       "<table border=\"1\" class=\"dataframe\">\n",
       "  <thead>\n",
       "    <tr style=\"text-align: right;\">\n",
       "      <th></th>\n",
       "      <th>Review_date</th>\n",
       "      <th>Reviewer_name</th>\n",
       "      <th>Review_body</th>\n",
       "      <th>User_Rating</th>\n",
       "    </tr>\n",
       "  </thead>\n",
       "  <tbody>\n",
       "    <tr>\n",
       "      <th>0</th>\n",
       "      <td>July 28, 2021</td>\n",
       "      <td>Alicia</td>\n",
       "      <td>Clorox products are always the best choice. No...</td>\n",
       "      <td>5</td>\n",
       "    </tr>\n",
       "    <tr>\n",
       "      <th>1</th>\n",
       "      <td>July 28, 2021</td>\n",
       "      <td>Fiesta</td>\n",
       "      <td>Nothing like Clorox products</td>\n",
       "      <td>5</td>\n",
       "    </tr>\n",
       "    <tr>\n",
       "      <th>2</th>\n",
       "      <td>July 27, 2021</td>\n",
       "      <td>June</td>\n",
       "      <td>all the liquid was drained out of all three co...</td>\n",
       "      <td>1</td>\n",
       "    </tr>\n",
       "    <tr>\n",
       "      <th>3</th>\n",
       "      <td>July 27, 2021</td>\n",
       "      <td>Nene</td>\n",
       "      <td>The real deal. Its effective</td>\n",
       "      <td>5</td>\n",
       "    </tr>\n",
       "    <tr>\n",
       "      <th>4</th>\n",
       "      <td>July 26, 2021</td>\n",
       "      <td>kathleen</td>\n",
       "      <td>Great price, product and service</td>\n",
       "      <td>5</td>\n",
       "    </tr>\n",
       "    <tr>\n",
       "      <th>...</th>\n",
       "      <td>...</td>\n",
       "      <td>...</td>\n",
       "      <td>...</td>\n",
       "      <td>...</td>\n",
       "    </tr>\n",
       "    <tr>\n",
       "      <th>435</th>\n",
       "      <td>December 21, 2020</td>\n",
       "      <td>jaycail</td>\n",
       "      <td>These wipes are essential. During corona virus...</td>\n",
       "      <td>5</td>\n",
       "    </tr>\n",
       "    <tr>\n",
       "      <th>436</th>\n",
       "      <td>December 20, 2020</td>\n",
       "      <td>shannonb173</td>\n",
       "      <td>Clorox is an amazing product! This product mak...</td>\n",
       "      <td>5</td>\n",
       "    </tr>\n",
       "    <tr>\n",
       "      <th>437</th>\n",
       "      <td>December 19, 2020</td>\n",
       "      <td>chelsead73</td>\n",
       "      <td>I always have disinfecting wipes in my house. ...</td>\n",
       "      <td>5</td>\n",
       "    </tr>\n",
       "    <tr>\n",
       "      <th>438</th>\n",
       "      <td>December 17, 2020</td>\n",
       "      <td>desireeo10</td>\n",
       "      <td>I dont clean my counters with anything else. A...</td>\n",
       "      <td>5</td>\n",
       "    </tr>\n",
       "    <tr>\n",
       "      <th>439</th>\n",
       "      <td>December 16, 2020</td>\n",
       "      <td>sindhum6</td>\n",
       "      <td>Clorox disinfecting wipes are great especially...</td>\n",
       "      <td>5</td>\n",
       "    </tr>\n",
       "  </tbody>\n",
       "</table>\n",
       "<p>440 rows × 4 columns</p>\n",
       "</div>"
      ],
      "text/plain": [
       "           Review_date Reviewer_name  \\\n",
       "0        July 28, 2021        Alicia   \n",
       "1        July 28, 2021        Fiesta   \n",
       "2        July 27, 2021          June   \n",
       "3        July 27, 2021          Nene   \n",
       "4        July 26, 2021      kathleen   \n",
       "..                 ...           ...   \n",
       "435  December 21, 2020       jaycail   \n",
       "436  December 20, 2020   shannonb173   \n",
       "437  December 19, 2020    chelsead73   \n",
       "438  December 17, 2020    desireeo10   \n",
       "439  December 16, 2020      sindhum6   \n",
       "\n",
       "                                           Review_body User_Rating  \n",
       "0    Clorox products are always the best choice. No...           5  \n",
       "1                         Nothing like Clorox products           5  \n",
       "2    all the liquid was drained out of all three co...           1  \n",
       "3                         The real deal. Its effective           5  \n",
       "4                     Great price, product and service           5  \n",
       "..                                                 ...         ...  \n",
       "435  These wipes are essential. During corona virus...           5  \n",
       "436  Clorox is an amazing product! This product mak...           5  \n",
       "437  I always have disinfecting wipes in my house. ...           5  \n",
       "438  I dont clean my counters with anything else. A...           5  \n",
       "439  Clorox disinfecting wipes are great especially...           5  \n",
       "\n",
       "[440 rows x 4 columns]"
      ]
     },
     "execution_count": 59,
     "metadata": {},
     "output_type": "execute_result"
    }
   ],
   "source": [
    "# Final Data Frame having columns Review_date,Reviewer_name,Review_body and User_Rating.\n",
    "Data_Frame"
   ]
  },
  {
   "cell_type": "code",
   "execution_count": 60,
   "metadata": {},
   "outputs": [],
   "source": [
    "# Create CSV file from pandas dataframe\n",
    "Data_Frame.to_csv('Output_file.csv')"
   ]
  },
  {
   "cell_type": "code",
   "execution_count": null,
   "metadata": {},
   "outputs": [],
   "source": []
  }
 ],
 "metadata": {
  "kernelspec": {
   "display_name": "Python 3",
   "language": "python",
   "name": "python3"
  },
  "language_info": {
   "codemirror_mode": {
    "name": "ipython",
    "version": 3
   },
   "file_extension": ".py",
   "mimetype": "text/x-python",
   "name": "python",
   "nbconvert_exporter": "python",
   "pygments_lexer": "ipython3",
   "version": "3.6.5"
  }
 },
 "nbformat": 4,
 "nbformat_minor": 2
}
